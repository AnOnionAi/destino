{
  "nbformat": 4,
  "nbformat_minor": 2,
  "metadata": {
    "kernelspec": {
      "display_name": "Python 3",
      "language": "python",
      "name": "python3"
    },
    "language_info": {
      "codemirror_mode": {
        "name": "ipython",
        "version": 3
      },
      "file_extension": ".py",
      "mimetype": "text/x-python",
      "name": "python",
      "nbconvert_exporter": "python",
      "pygments_lexer": "ipython3",
      "version": "3.7.6"
    },
    "colab": {
      "name": "youtube_mcts.ipynb",
      "provenance": [],
      "collapsed_sections": []
    }
  },
  "cells": [
    {
      "cell_type": "code",
      "execution_count": 1,
      "source": [
        "# this is MuZero on Tic Tac Toe!\n",
        "# https://arxiv.org/abs/1911.08265\n",
        "# The MCTS works\n",
        "# https://www.youtube.com/watch?v=yIrFIOx4VP8"
      ],
      "outputs": [],
      "metadata": {
        "id": "3d1GSj5Ra8YM"
      }
    },
    {
      "cell_type": "code",
      "execution_count": null,
      "source": [
        "%load_ext autoreload\n",
        "%autoreload 2\n",
        "%pylab inline\n",
        "import tensorflow as tf\n",
        "import numpy as np\n",
        "import gym\n",
        "from tqdm import tqdm, trange\n",
        "import os,sys\n",
        "sys.path.append(os.getcwd())\n",
        "np.set_printoptions(suppress=True)"
      ],
      "outputs": [
        {
          "output_type": "stream",
          "name": "stdout",
          "text": [
            "Populating the interactive namespace from numpy and matplotlib\n"
          ]
        }
      ],
      "metadata": {
        "colab": {
          "base_uri": "https://localhost:8080/"
        },
        "id": "10kFgMMga8YM",
        "outputId": "b6763cd1-6c46-4ee8-c13c-68eb0f99fe27"
      }
    },
    {
      "cell_type": "code",
      "execution_count": null,
      "source": [
        "# The Tic Tac Toe game\n",
        "\n",
        "class TicTacToe():\n",
        "  def __init__(self, state=None):\n",
        "    self.reset()\n",
        "    if state is not None:\n",
        "      self.state = state\n",
        "\n",
        "  def reset(self):\n",
        "    self.done = False\n",
        "    self.state = [0]*11\n",
        "    self.state[-1] = 1\n",
        "    return self.state\n",
        "   \n",
        "  class observation_space():\n",
        "    shape = (11,)\n",
        "\n",
        "  class action_space():\n",
        "    n = 9\n",
        "\n",
        "  def render(self):\n",
        "    print(\"turn %d\" % self.state[-1])\n",
        "    print(np.array(self.state[0:9]).reshape(3,3))\n",
        "    \n",
        "  def value(self, s):\n",
        "    ret = 0\n",
        "    for turn in [-1, 1]:\n",
        "      for i in range(3):\n",
        "        if all([x==turn for x in s[3*i:3*i+3]]):\n",
        "          ret = turn\n",
        "        if all([x==turn for x in [s[i], s[3+i], s[6+i]]]):\n",
        "          ret = turn\n",
        "      if all([x==turn for x in [s[0], s[4], s[8]]]):\n",
        "        ret = turn\n",
        "      if all([x==turn for x in [s[2], s[4], s[6]]]):\n",
        "        ret = turn\n",
        "    # NOTE: this is not the value, the state may be won\n",
        "    return ret*s[-1]\n",
        "  \n",
        "  def dynamics(self, s, act):\n",
        "    rew = 0\n",
        "    s = s.copy()\n",
        "    if s[act] != 0 or s[-2] != 0:\n",
        "      # don't move in taken spots or in finished games\n",
        "      rew = -10\n",
        "    else:\n",
        "      s[act] = s[-1]\n",
        "      rew += self.value(s)\n",
        "    if s[-2] != 0:\n",
        "      rew = 0\n",
        "    else:\n",
        "      s[-2] = self.value(s)\n",
        "    s[-1] = -s[-1]\n",
        "    return rew, s\n",
        "  \n",
        "  def step(self, act):\n",
        "    rew, self.state = self.dynamics(self.state, act)\n",
        "    if rew != 0:\n",
        "      self.done = True\n",
        "    if np.all(np.array(self.state[0:9]) != 0):\n",
        "      self.done = True\n",
        "    return self.state, rew, self.done, None\n",
        "  \n",
        "# Play a quick round\n",
        "env = TicTacToe()\n",
        "print(env.reset())\n",
        "print(env.step(4))\n",
        "print(env.step(0))\n",
        "print(env.step(3))\n",
        "print(env.step(1))\n",
        "print(env.step(6))\n",
        "print(env.step(2))\n",
        "print(env.state[-1], env.value(env.state))"
      ],
      "outputs": [
        {
          "output_type": "stream",
          "name": "stdout",
          "text": [
            "[0, 0, 0, 0, 0, 0, 0, 0, 0, 0, 1]\n",
            "([0, 0, 0, 0, 1, 0, 0, 0, 0, 0, -1], 0, False, None)\n",
            "([-1, 0, 0, 0, 1, 0, 0, 0, 0, 0, 1], 0, False, None)\n",
            "([-1, 0, 0, 1, 1, 0, 0, 0, 0, 0, -1], 0, False, None)\n",
            "([-1, -1, 0, 1, 1, 0, 0, 0, 0, 0, 1], 0, False, None)\n",
            "([-1, -1, 0, 1, 1, 0, 1, 0, 0, 0, -1], 0, False, None)\n",
            "([-1, -1, -1, 1, 1, 0, 1, 0, 0, 1, 1], 1, True, None)\n",
            "1 -1\n"
          ]
        }
      ],
      "metadata": {
        "colab": {
          "base_uri": "https://localhost:8080/"
        },
        "id": "vaXGPAfba8YN",
        "outputId": "151b4f05-82dd-4dd9-fb17-de1d3818e533"
      }
    },
    {
      "cell_type": "code",
      "execution_count": null,
      "source": [
        "# a mock representation, dynamics, and prediction function\n",
        "class MockModel():\n",
        "  def ht(self,s):\n",
        "    return s\n",
        "  def gt(self, s, a):\n",
        "    #print(s, a)\n",
        "    return env.dynamics(s,a)\n",
        "  def ft(self,s):\n",
        "    #print(s, env.value(s))\n",
        "    return np.array([1/9]*9), env.value(s)\n",
        "\n",
        "# unit tests for the MCTS!\n",
        "from muzero.mcts import mcts_search, print_tree\n",
        "mm = MockModel()\n",
        "obs = [1, -1, 1, -1, 1, -1, 0, 0, 0,  0,1]\n",
        "policy, node = mcts_search(mm, obs, 1000)\n",
        "print(policy)\n",
        "act = np.random.choice(list(range(len(policy))), p=policy)\n",
        "assert act == 8 or act == 6\n",
        "obs = [-1, -1, 0, 1, 1, 0, 1, 0, 0,  0,-1]\n",
        "policy, node = mcts_search(mm, obs, 1000)\n",
        "print(policy)\n",
        "act = np.random.choice(list(range(len(policy))), p=policy)\n",
        "assert act == 2\n",
        "obs = [1,0,0,1,-1,0,-1,0,0,   0,1]\n",
        "policy, node = mcts_search(mm, obs, 1000)\n",
        "print(policy)\n",
        "act = np.random.choice(list(range(len(policy))), p=policy)\n",
        "assert act == 2\n",
        "obs = [0,1,-1,0,1,0,0,0,0,  0,-1]\n",
        "policy, node = mcts_search(mm, obs, 1000)\n",
        "print(policy)\n",
        "act = np.random.choice(list(range(len(policy))), p=policy)\n",
        "assert act == 7\n",
        "obs = [0,0,0, 0,-1,0, 1,-1,1,  0,1]\n",
        "policy, node = mcts_search(mm, obs, 1000)\n",
        "print(policy)\n",
        "act = np.random.choice(list(range(len(policy))), p=policy)\n",
        "assert act == 1"
      ],
      "outputs": [
        {
          "output_type": "error",
          "ename": "ModuleNotFoundError",
          "evalue": "ignored",
          "traceback": [
            "\u001b[0;31m---------------------------------------------------------------------------\u001b[0m",
            "\u001b[0;31mModuleNotFoundError\u001b[0m                       Traceback (most recent call last)",
            "\u001b[0;32m<ipython-input-2-9b880cace67a>\u001b[0m in \u001b[0;36m<module>\u001b[0;34m()\u001b[0m\n\u001b[1;32m     11\u001b[0m \u001b[0;34m\u001b[0m\u001b[0m\n\u001b[1;32m     12\u001b[0m \u001b[0;31m# unit tests for the MCTS!\u001b[0m\u001b[0;34m\u001b[0m\u001b[0;34m\u001b[0m\u001b[0;34m\u001b[0m\u001b[0m\n\u001b[0;32m---> 13\u001b[0;31m \u001b[0;32mfrom\u001b[0m \u001b[0mmuzero\u001b[0m\u001b[0;34m.\u001b[0m\u001b[0mmcts\u001b[0m \u001b[0;32mimport\u001b[0m \u001b[0mmcts_search\u001b[0m\u001b[0;34m,\u001b[0m \u001b[0mprint_tree\u001b[0m\u001b[0;34m\u001b[0m\u001b[0;34m\u001b[0m\u001b[0m\n\u001b[0m\u001b[1;32m     14\u001b[0m \u001b[0mmm\u001b[0m \u001b[0;34m=\u001b[0m \u001b[0mMockModel\u001b[0m\u001b[0;34m(\u001b[0m\u001b[0;34m)\u001b[0m\u001b[0;34m\u001b[0m\u001b[0;34m\u001b[0m\u001b[0m\n\u001b[1;32m     15\u001b[0m \u001b[0mobs\u001b[0m \u001b[0;34m=\u001b[0m \u001b[0;34m[\u001b[0m\u001b[0;36m1\u001b[0m\u001b[0;34m,\u001b[0m \u001b[0;34m-\u001b[0m\u001b[0;36m1\u001b[0m\u001b[0;34m,\u001b[0m \u001b[0;36m1\u001b[0m\u001b[0;34m,\u001b[0m \u001b[0;34m-\u001b[0m\u001b[0;36m1\u001b[0m\u001b[0;34m,\u001b[0m \u001b[0;36m1\u001b[0m\u001b[0;34m,\u001b[0m \u001b[0;34m-\u001b[0m\u001b[0;36m1\u001b[0m\u001b[0;34m,\u001b[0m \u001b[0;36m0\u001b[0m\u001b[0;34m,\u001b[0m \u001b[0;36m0\u001b[0m\u001b[0;34m,\u001b[0m \u001b[0;36m0\u001b[0m\u001b[0;34m,\u001b[0m  \u001b[0;36m0\u001b[0m\u001b[0;34m,\u001b[0m\u001b[0;36m1\u001b[0m\u001b[0;34m]\u001b[0m\u001b[0;34m\u001b[0m\u001b[0;34m\u001b[0m\u001b[0m\n",
            "\u001b[0;31mModuleNotFoundError\u001b[0m: No module named 'muzero'",
            "",
            "\u001b[0;31m---------------------------------------------------------------------------\u001b[0;32m\nNOTE: If your import is failing due to a missing package, you can\nmanually install dependencies using either !pip or !apt.\n\nTo view examples of installing some common dependencies, click the\n\"Open Examples\" button below.\n\u001b[0;31m---------------------------------------------------------------------------\u001b[0m\n"
          ]
        }
      ],
      "metadata": {
        "colab": {
          "base_uri": "https://localhost:8080/",
          "height": 366
        },
        "id": "9JnvcwTua8YO",
        "outputId": "2adc177a-748e-4415-dd28-1bbdd9dfc757"
      }
    },
    {
      "cell_type": "code",
      "execution_count": null,
      "source": [
        "# computer can play against itself...and tie!\n",
        "\n",
        "gg = TicTacToe()\n",
        "done = False\n",
        "while not done:\n",
        "  policy, node = mcts_search(mm, gg.state, 2000)\n",
        "  print(policy)\n",
        "  act = np.random.choice(list(range(len(policy))), p=policy)\n",
        "  print(act)\n",
        "  _, _, done, _ = gg.step(act)\n",
        "  gg.render()"
      ],
      "outputs": [
        {
          "output_type": "stream",
          "name": "stdout",
          "text": [
            "[1. 0. 0. 0. 0. 0. 0. 0. 0.]\n",
            "0\n",
            "turn -1\n",
            "[[1 0 0]\n",
            " [0 0 0]\n",
            " [0 0 0]]\n",
            "[0. 0. 0. 0. 0. 0. 1. 0. 0.]\n",
            "6\n",
            "turn 1\n",
            "[[ 1  0  0]\n",
            " [ 0  0  0]\n",
            " [-1  0  0]]\n",
            "[0. 0. 0. 0. 0. 0. 0. 1. 0.]\n",
            "7\n",
            "turn -1\n",
            "[[ 1  0  0]\n",
            " [ 0  0  0]\n",
            " [-1  1  0]]\n",
            "[0. 0. 0. 0. 0. 0. 0. 0. 1.]\n",
            "8\n",
            "turn 1\n",
            "[[ 1  0  0]\n",
            " [ 0  0  0]\n",
            " [-1  1 -1]]\n",
            "[0. 0. 0. 0. 0. 1. 0. 0. 0.]\n",
            "5\n",
            "turn -1\n",
            "[[ 1  0  0]\n",
            " [ 0  0  1]\n",
            " [-1  1 -1]]\n",
            "[0. 1. 0. 0. 0. 0. 0. 0. 0.]\n",
            "1\n",
            "turn 1\n",
            "[[ 1 -1  0]\n",
            " [ 0  0  1]\n",
            " [-1  1 -1]]\n",
            "[0. 0. 1. 0. 0. 0. 0. 0. 0.]\n",
            "2\n",
            "turn -1\n",
            "[[ 1 -1  1]\n",
            " [ 0  0  1]\n",
            " [-1  1 -1]]\n",
            "[0. 0. 0. 0. 1. 0. 0. 0. 0.]\n",
            "4\n",
            "turn 1\n",
            "[[ 1 -1  1]\n",
            " [ 0 -1  1]\n",
            " [-1  1 -1]]\n",
            "[0. 0. 0. 1. 0. 0. 0. 0. 0.]\n",
            "3\n",
            "turn -1\n",
            "[[ 1 -1  1]\n",
            " [ 1 -1  1]\n",
            " [-1  1 -1]]\n"
          ]
        }
      ],
      "metadata": {
        "scrolled": false,
        "id": "kUyijja4a8YP",
        "outputId": "e2f6fcb9-a280-4187-82bf-9720feb31195"
      }
    },
    {
      "cell_type": "code",
      "execution_count": null,
      "source": [
        "# Now we try to learn a model, and things work less well\n",
        "\n",
        "from muzero.model import MuModel\n",
        "m = MuModel(env.observation_space.shape, env.action_space.n, s_dim=64, K=5, lr=0.001)\n",
        "print(env.observation_space.shape, env.action_space.n)\n",
        "\n",
        "from muzero.game import Game, ReplayBuffer\n",
        "from muzero.mcts import naive_search, mcts_search\n",
        "replay_buffer = ReplayBuffer(200, 16, m.K)\n",
        "rews = []"
      ],
      "outputs": [
        {
          "output_type": "stream",
          "name": "stdout",
          "text": [
            "WARNING:tensorflow:From /usr/local/lib/python3.7/site-packages/tensorflow_core/python/ops/resource_variable_ops.py:1630: calling BaseResourceVariable.__init__ (from tensorflow.python.ops.resource_variable_ops) with constraint is deprecated and will be removed in a future version.\n",
            "Instructions for updating:\n",
            "If using Keras pass *_constraint arguments to layers.\n",
            "(11,) 9\n"
          ]
        }
      ],
      "metadata": {
        "id": "DofXbqnPa8YP",
        "outputId": "86362017-0845-4486-9516-284c5f8c05d7"
      }
    },
    {
      "cell_type": "code",
      "execution_count": null,
      "source": [
        "def play_game(env, m):\n",
        "  import random\n",
        "  game = Game(env, discount=0.99)\n",
        "  while not game.terminal():\n",
        "    # TODO: Do we need to limit the depth of the MCTS search?\n",
        "    #policy = naive_search(m, game.observation, T=1)\n",
        "    policy, _ = mcts_search(m, game.observation, 30)\n",
        "    game.act_with_policy(policy)\n",
        "  return game"
      ],
      "outputs": [],
      "metadata": {
        "id": "YpqLu4xva8YQ"
      }
    },
    {
      "cell_type": "code",
      "execution_count": null,
      "source": [
        "from muzero.model import reformat_batch\n",
        "import collections\n",
        "\n",
        "for j in range(30):\n",
        "  game = play_game(env, m)\n",
        "  replay_buffer.save_game(game)\n",
        "  for i in range(20):\n",
        "    m.train_on_batch(replay_buffer.sample_batch())\n",
        "  rew = sum(game.rewards)\n",
        "  rews.append(rew)\n",
        "  print(len(game.history), rew, game.history, m.losses[-1][0])"
      ],
      "outputs": [
        {
          "output_type": "stream",
          "name": "stdout",
          "text": [
            "2 -10 [4, 4] 5.3141327\n",
            "4 -10 [8, 5, 6, 5] 64.46634\n",
            "4 -10 [8, 6, 4, 6] 109.44394\n",
            "4 -10 [4, 6, 5, 6] 79.12269\n",
            "4 -10 [8, 6, 5, 6] 117.92034\n",
            "4 -10 [4, 6, 8, 6] 137.791\n",
            "6 -10 [0, 7, 1, 8, 3, 8] 228.86325\n",
            "3 -10 [0, 5, 5] 178.95453\n",
            "5 -10 [3, 1, 2, 6, 2] 140.30872\n",
            "3 -10 [1, 7, 7] 170.76105\n",
            "2 -10 [6, 6] 154.14026\n",
            "4 -10 [4, 6, 5, 6] 142.79263\n",
            "2 -10 [5, 5] 149.86656\n",
            "3 -10 [7, 6, 7] 592.29877\n",
            "6 -10 [5, 2, 6, 0, 7, 5] 221.93646\n",
            "2 -10 [2, 2] 167.05666\n",
            "5 1 [8, 3, 6, 0, 7] 150.44774\n",
            "4 -10 [3, 5, 2, 3] 142.98276\n",
            "4 -10 [3, 6, 5, 3] 151.6984\n",
            "4 -10 [3, 6, 0, 0] 137.26353\n",
            "2 -10 [6, 6] 127.44191\n",
            "5 1 [2, 6, 8, 3, 5] 174.89452\n",
            "4 -10 [0, 6, 3, 6] 1299.0835\n",
            "4 -10 [8, 3, 4, 8] 362.81866\n",
            "4 -10 [5, 1, 0, 1] 205.2476\n",
            "3 -10 [6, 5, 6] 162.90738\n",
            "6 -10 [5, 2, 3, 6, 8, 8] 146.33574\n",
            "4 -10 [0, 5, 6, 5] 173.46304\n",
            "4 -10 [7, 6, 2, 6] 159.79738\n",
            "4 -10 [1, 6, 4, 6] 183.58522\n"
          ]
        }
      ],
      "metadata": {
        "id": "NAGDraxTa8YQ",
        "outputId": "6da4060b-b915-4c19-fedf-1d6d8824a8ec"
      }
    },
    {
      "cell_type": "code",
      "execution_count": null,
      "source": [
        "plot(rews)\n",
        "figure()\n",
        "plot([x[0] for x in m.losses])\n",
        "plot([x[1] for x in m.losses])\n",
        "plot([x[-3] for x in m.losses])"
      ],
      "outputs": [
        {
          "output_type": "execute_result",
          "data": {
            "text/plain": [
              "[<matplotlib.lines.Line2D at 0x152721050>]"
            ]
          },
          "metadata": {
            "tags": []
          },
          "execution_count": 12
        },
        {
          "output_type": "display_data",
          "data": {
            "text/plain": [
              "<Figure size 432x288 with 1 Axes>"
            ],
            "image/png": "[encoded data removed]"
          },
          "metadata": {
            "tags": [],
            "needs_background": "light"
          }
        },
        {
          "output_type": "display_data",
          "data": {
            "text/plain": [
              "<Figure size 432x288 with 1 Axes>"
            ],
            "image/png": "[encoded data removed]"
          },
          "metadata": {
            "tags": [],
            "needs_background": "light"
          }
        }
      ],
      "metadata": {
        "id": "2MME4j4ra8YR",
        "outputId": "eae7d609-ef84-4aed-e77f-41b782cd0d24"
      }
    },
    {
      "cell_type": "code",
      "execution_count": null,
      "source": [
        "# show starting policy\n",
        "\n",
        "obs = [0,0,0,0,0,0,0,0,0,  0,1]\n",
        "policy, value = m.ft(m.ht(obs))\n",
        "np.reshape(policy, (3,3))"
      ],
      "outputs": [
        {
          "output_type": "execute_result",
          "data": {
            "text/plain": [
              "array([[0.0513851 , 0.02443472, 0.07519621],\n",
              "       [0.16723773, 0.10752013, 0.14870928],\n",
              "       [0.13597797, 0.1101034 , 0.17943546]], dtype=float32)"
            ]
          },
          "metadata": {
            "tags": []
          },
          "execution_count": 9
        }
      ],
      "metadata": {
        "id": "g_ShJXoOa8YR",
        "outputId": "a3bcfb8b-1cf5-439e-93e4-161ceb6e7114"
      }
    },
    {
      "cell_type": "code",
      "execution_count": null,
      "source": [
        "# test a \"challenging\" scenario\n",
        "\n",
        "obs = [1, -1, 1, -1, 1, -1, 0, 0, 0,  0,1]\n",
        "TicTacToe(obs).render()\n",
        "policy, value = m.ft(m.ht(obs))\n",
        "\n",
        "# expect 6 and 8 to light up in reward...they don't\n",
        "rew = [m.gt(m.ht(obs), i)[0] for i in range(9)]\n",
        "np.reshape(policy, (3,3)), np.reshape(rew, (3,3))"
      ],
      "outputs": [
        {
          "output_type": "stream",
          "name": "stdout",
          "text": [
            "turn 1\n",
            "[[ 1 -1  1]\n",
            " [-1  1 -1]\n",
            " [ 0  0  0]]\n"
          ]
        },
        {
          "output_type": "execute_result",
          "data": {
            "text/plain": [
              "(array([[0.0365698 , 0.03462234, 0.07436159],\n",
              "        [0.18296465, 0.091771  , 0.11462648],\n",
              "        [0.14332601, 0.13091904, 0.19083901]], dtype=float32),\n",
              " array([[-1.9384444, -1.7125351, -1.7163184],\n",
              "        [-1.885684 , -1.9812845, -1.9258984],\n",
              "        [-2.026409 , -1.7050903, -1.9425305]], dtype=float32))"
            ]
          },
          "metadata": {
            "tags": []
          },
          "execution_count": 10
        }
      ],
      "metadata": {
        "id": "Bg6n-G1ra8YR",
        "outputId": "95b4a390-5165-4837-aea6-ed742cf51342"
      }
    }
  ]
}