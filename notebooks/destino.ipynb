{
  "cells": [
    {
      "cell_type": "markdown",
      "metadata": {
        "id": "uGRz9iW3qC1x"
      },
      "source": [
        "# Destino\n",
        "\n",
        "Reinforcement learning with Monte Carlo Algorithm for playing games. Based on Muzero. Is it luck or was it skill?"
      ]
    },
    {
      "cell_type": "code",
      "execution_count": null,
      "metadata": {},
      "outputs": [],
      "source": [
        "gpu_info = !nvidia-smi\n",
        "gpu_info = '\\n'.join(gpu_info)\n",
        "if gpu_info.find('failed') >= 0:\n",
        "  print('Not connected to a GPU')\n",
        "else:\n",
        "  print(gpu_info)"
      ]
    },
    {
      "cell_type": "code",
      "execution_count": null,
      "metadata": {
        "colab": {
          "base_uri": "https://localhost:8080/"
        },
        "id": "0CHey99GnA7n",
        "outputId": "7c264c0d-55e6-40a0-d61b-bbbc3aa596ea"
      },
      "outputs": [],
      "source": [
        "import os\n",
        "!git clone https://github.com/ZetiAi/destino.git\n",
        "if os.path.isdir('destino'): \n",
        "  %cd ./destino\n",
        "else: \n",
        "  print(\"Your Password is Incorrect.\")"
      ]
    },
    {
      "cell_type": "code",
      "execution_count": null,
      "metadata": {
        "colab": {
          "base_uri": "https://localhost:8080/"
        },
        "id": "f0cB1HGMYo6I",
        "outputId": "6ea3ca47-6ffa-49fe-ab2d-c3b5401b2ff1"
      },
      "outputs": [],
      "source": [
        "# set up the environment\n",
        "%pip install -q --pre poetry\n",
        "!poetry --version\n",
        "!poetry install"
      ]
    },
    {
      "cell_type": "code",
      "execution_count": 10,
      "metadata": {
        "colab": {
          "base_uri": "https://localhost:8080/",
          "height": 839
        },
        "id": "fQJjpJYypcDc",
        "outputId": "c828afab-586f-461e-afa0-5acfdff46d62"
      },
      "outputs": [
        {
          "data": {
            "text/plain": [
              "Reusing TensorBoard on port 6006 (pid 286), started 0:10:56 ago. (Use '!kill 286' to kill it.)"
            ]
          },
          "metadata": {
            "tags": []
          },
          "output_type": "display_data"
        },
        {
          "data": {
            "application/javascript": "\n        (async () => {\n            const url = new URL(await google.colab.kernel.proxyPort(6006, {'cache': true}));\n            url.searchParams.set('tensorboardColab', 'true');\n            const iframe = document.createElement('iframe');\n            iframe.src = url;\n            iframe.setAttribute('width', '100%');\n            iframe.setAttribute('height', '800');\n            iframe.setAttribute('frameborder', 0);\n            document.body.appendChild(iframe);\n        })();\n    ",
            "text/plain": [
              "<IPython.core.display.Javascript object>"
            ]
          },
          "metadata": {
            "tags": []
          },
          "output_type": "display_data"
        }
      ],
      "source": [
        "%load_ext tensorboard\n",
        "%tensorboard --logdir ./results\n",
        "%reload_ext tensorboard"
      ]
    },
    {
      "cell_type": "code",
      "execution_count": 7,
      "metadata": {
        "colab": {
          "base_uri": "https://localhost:8080/"
        },
        "id": "dY8xtSboxYsr",
        "outputId": "76f41924-4c2c-4ebc-ad09-c6ce4961aa47"
      },
      "outputs": [
        {
          "name": "stdout",
          "output_type": "stream",
          "text": [
            "/root/.cache/pypoetry/virtualenvs/destino-jt2lpmx_-py3.7/lib/python3.7/site-packages/cma/s.py:13: UserWarning: Could not import matplotlib.pyplot, therefore ``cma.plot()`` etc. is not available\n",
            "  _warnings.warn('Could not import matplotlib.pyplot, therefore'\n",
            "/root/.cache/pypoetry/virtualenvs/destino-jt2lpmx_-py3.7/lib/python3.7/site-packages/ray/autoscaler/_private/cli_logger.py:61: FutureWarning: Not all Ray CLI dependencies were found. In Ray 1.4+, the Ray CLI, autoscaler, and dashboard will only be usable via `pip install 'ray[default]'`. Please update your install command.\n",
            "  \"update your install command.\", FutureWarning)\n",
            "\n",
            "Welcome to MuZero! Here's a list of games:\n",
            "0. blackjack\n",
            "1. chess\n",
            "2. poker\n",
            "3. tictactoe\n",
            "Enter a number to choose the game: 3\n",
            "<config.Config object at 0x7fe22848f990>\n",
            "\n",
            "0. Train\n",
            "1. Load pretrained model\n",
            "2. Diagnose model\n",
            "3. Render some self play games\n",
            "4. Play against MuZero\n",
            "5. Test the game manually\n",
            "6. Hyperparameter search\n",
            "7. Exit\n",
            "Enter a number to choose an action: 0\n",
            "GPU ON: True\n",
            "Number of GPU: 1\n",
            "2021-08-03 00:46:17,069\tINFO services.py:1247 -- View the Ray dashboard at \u001b[1m\u001b[32mhttp://127.0.0.1:8265\u001b[39m\u001b[22m\n",
            "\n",
            "Training...\n",
            "Run tensorboard --logdir ./results and go to http://localhost:6006/ to see in real time the training performance.\n",
            "\n",
            "\u001b[2m\u001b[33m(raylet)\u001b[0m /root/.cache/pypoetry/virtualenvs/destino-jt2lpmx_-py3.7/lib/python3.7/site-packages/ray/autoscaler/_private/cli_logger.py:61: FutureWarning: Not all Ray CLI dependencies were found. In Ray 1.4+, the Ray CLI, autoscaler, and dashboard will only be usable via `pip install 'ray[default]'`. Please update your install command.\n",
            "\u001b[2m\u001b[33m(raylet)\u001b[0m   \"update your install command.\", FutureWarning)\n",
            "\u001b[2m\u001b[33m(raylet)\u001b[0m /root/.cache/pypoetry/virtualenvs/destino-jt2lpmx_-py3.7/lib/python3.7/site-packages/ray/autoscaler/_private/cli_logger.py:61: FutureWarning: Not all Ray CLI dependencies were found. In Ray 1.4+, the Ray CLI, autoscaler, and dashboard will only be usable via `pip install 'ray[default]'`. Please update your install command.\n",
            "\u001b[2m\u001b[33m(raylet)\u001b[0m   \"update your install command.\", FutureWarning)\n",
            "\u001b[2m\u001b[33m(raylet)\u001b[0m /root/.cache/pypoetry/virtualenvs/destino-jt2lpmx_-py3.7/lib/python3.7/site-packages/ray/autoscaler/_private/cli_logger.py:61: FutureWarning: Not all Ray CLI dependencies were found. In Ray 1.4+, the Ray CLI, autoscaler, and dashboard will only be usable via `pip install 'ray[default]'`. Please update your install command.\n",
            "\u001b[2m\u001b[33m(raylet)\u001b[0m   \"update your install command.\", FutureWarning)\n",
            "\u001b[2m\u001b[33m(raylet)\u001b[0m /root/.cache/pypoetry/virtualenvs/destino-jt2lpmx_-py3.7/lib/python3.7/site-packages/ray/autoscaler/_private/cli_logger.py:61: FutureWarning: Not all Ray CLI dependencies were found. In Ray 1.4+, the Ray CLI, autoscaler, and dashboard will only be usable via `pip install 'ray[default]'`. Please update your install command.\n",
            "\u001b[2m\u001b[33m(raylet)\u001b[0m   \"update your install command.\", FutureWarning)\n",
            "\u001b[2m\u001b[33m(raylet)\u001b[0m /root/.cache/pypoetry/virtualenvs/destino-jt2lpmx_-py3.7/lib/python3.7/site-packages/ray/autoscaler/_private/cli_logger.py:61: FutureWarning: Not all Ray CLI dependencies were found. In Ray 1.4+, the Ray CLI, autoscaler, and dashboard will only be usable via `pip install 'ray[default]'`. Please update your install command.\n",
            "\u001b[2m\u001b[33m(raylet)\u001b[0m   \"update your install command.\", FutureWarning)\n",
            "\n",
            "Shutting down workers...\n",
            "\n",
            "\n",
            "Persisting replay buffer games to disk...\n",
            "Done Training\n",
            "\n",
            "Done\n",
            "\n",
            "0. Train\n",
            "1. Load pretrained model\n",
            "2. Diagnose model\n",
            "3. Render some self play games\n",
            "4. Play against MuZero\n",
            "5. Test the game manually\n",
            "6. Hyperparameter search\n",
            "7. Exit\n",
            "Enter a number to choose an action: 7\n",
            "\u001b[0m"
          ]
        }
      ],
      "source": [
        "!poetry run python main.py\n",
        "\n",
        "# The error \"OSError: [Errno 99] error while attempting to bind on address ('::1', 8265, 0, 0): cannot assign requested address\" is not a problem. MuZero will keep running.\n",
        "\n",
        "# The logs won't be printed below. Training results will be displayed in real time in the TensorBoard dashboard above."
      ]
    }
  ],
  "metadata": {
    "accelerator": "GPU",
    "colab": {
      "collapsed_sections": [],
      "machine_shape": "hm",
      "name": "Destino.ipynb",
      "provenance": []
    },
    "kernelspec": {
      "display_name": "Python 3.10.7 64-bit",
      "language": "python",
      "name": "python3"
    },
    "language_info": {
      "name": "python",
      "version": "3.10.7"
    },
    "vscode": {
      "interpreter": {
        "hash": "aee8b7b246df8f9039afb4144a1f6fd8d2ca17a180786b69acc140d282b71a49"
      }
    }
  },
  "nbformat": 4,
  "nbformat_minor": 2
}
