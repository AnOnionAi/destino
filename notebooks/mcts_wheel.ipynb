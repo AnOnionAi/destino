{
  "cells": [
    {
      "cell_type": "markdown",
      "metadata": {
        "id": "2eamVMnW9C1F"
      },
      "source": [
        "# Build A Game Wheel \n",
        "This will build any game. Insert the desired repo / game and it will build it automatically. The package will work on Colab and can be installed with destino as well for training with the free GPU. \n"
      ]
    },
    {
      "cell_type": "markdown",
      "metadata": {
        "id": "ifwzazYVTkPk"
      },
      "source": [
        "##### Downloads The Repo "
      ]
    },
    {
      "cell_type": "code",
      "execution_count": null,
      "metadata": {
        "id": "Mzqegb1G88E3"
      },
      "outputs": [],
      "source": [
        "import os\n",
        "!git clone https://ghp_keyR@github.com/ZetiAi/mcts.git\n",
        "if os.path.isdir('mcts'): \n",
        "  %cd ./mcts\n",
        "else: \n",
        "  print(\"Your Password is Incorrect.\")"
      ]
    },
    {
      "cell_type": "markdown",
      "metadata": {
        "id": "q7syhBS49jvh"
      },
      "source": [
        "### Builds the Depenedencies \n",
        "This will build the Python application"
      ]
    },
    {
      "cell_type": "code",
      "execution_count": null,
      "metadata": {
        "id": "BtW-QR6vhGhY"
      },
      "outputs": [],
      "source": [
        "%pip install -q --pre poetry\n",
        "!poetry --version\n",
        "!poetry install"
      ]
    },
    {
      "cell_type": "code",
      "execution_count": null,
      "metadata": {},
      "outputs": [],
      "source": [
        "!git checkout feature/pyo3-torch"
      ]
    },
    {
      "cell_type": "markdown",
      "metadata": {
        "id": "9b2jdA2J81k2"
      },
      "source": [
        "### Install Rust & Builds \n",
        "This will create the Python & Rust Package that can be installed into Destino and trained on the Colab GPU. "
      ]
    },
    {
      "cell_type": "code",
      "execution_count": 3,
      "metadata": {
        "colab": {
          "base_uri": "https://localhost:8080/"
        },
        "id": "a3QYOz4X6itn",
        "outputId": "38d555d9-0282-4a05-eb1f-3e1e1104d8c7"
      },
      "outputs": [
        {
          "name": "stdout",
          "output_type": "stream",
          "text": [
            "Reading package lists... Done\n",
            "Building dependency tree       \n",
            "Reading state information... Done\n",
            "rustc is already the newest version (1.47.0+dfsg1+llvm-1ubuntu1~18.04.1).\n",
            "0 upgraded, 0 newly installed, 0 to remove and 40 not upgraded.\n",
            "🍹 Building a mixed python/rust project\n",
            "🔗 Found pyo3 bindings\n",
            "🐍 Found CPython 3.6m at python3.6, CPython 3.7m at python3.7\n",
            "📦 Built source distribution to /content/rustytac/target/wheels/gym_tictactoe-0.2.0.tar.gz\n",
            "\u001b[0m\u001b[0m\u001b[1m\u001b[32m   Compiling\u001b[0m pyo3 v0.13.2\n",
            "\u001b[0m\u001b[0m\u001b[1m\u001b[32m   Compiling\u001b[0m gym_tictactoe v0.2.0 (/content/rustytac)\n",
            "warning: unused import: `lazy_static::lazy_static`\n",
            " --> src/lib.rs:3:5\n",
            "  |\n",
            "3 | use lazy_static::lazy_static;\n",
            "  |     ^^^^^^^^^^^^^^^^^^^^^^^^\n",
            "  |\n",
            "  = note: `#[warn(unused_imports)]` on by default\n",
            "\n",
            "\n",
            "warning: unused import: `itertools::Itertools`\n",
            " --> src/lib.rs:4:5\n",
            "  |\n",
            "4 | use itertools::Itertools;\n",
            "  |     ^^^^^^^^^^^^^^^^^^^^\n",
            "\n",
            "\n",
            "warning: unused import: `pyo3::prelude::*`\n",
            " --> src/lib.rs:6:5\n",
            "  |\n",
            "6 | use pyo3::prelude::*;\n",
            "  |     ^^^^^^^^^^^^^^^^\n",
            "\n",
            "\n",
            "warning: unused import: `pyo3::types::PyDict`\n",
            " --> src/lib.rs:7:5\n",
            "  |\n",
            "7 | use pyo3::types::PyDict;\n",
            "  |     ^^^^^^^^^^^^^^^^^^^\n",
            "\n",
            "\n",
            "warning: unused `std::result::Result` that must be used\n",
            "   --> src/lib.rs:211:13\n",
            "    |\n",
            "211 |             write!(f, \"{}\\n\", row_string);\n",
            "    |             ^^^^^^^^^^^^^^^^^^^^^^^^^^^^^^\n",
            "    |\n",
            "    = note: `#[warn(unused_must_use)]` on by default\n",
            "    = note: this `Result` may be an `Err` variant, which should be handled\n",
            "    = note: this warning originates in a macro (in Nightly builds, run with -Z macro-backtrace for more info)\n",
            "\n",
            "\n",
            "warning: 5 warnings emitted\n",
            "\n",
            "\n",
            "\u001b[0m\u001b[0m\u001b[1m\u001b[32m    Finished\u001b[0m release [optimized] target(s) in 15.63s\n",
            "📦 Built wheel for CPython 3.6m to /content/rustytac/target/wheels/gym_tictactoe-0.2.0-cp36-cp36m-manylinux_2_24_x86_64.whl\n",
            "\u001b[0m\u001b[0m\u001b[1m\u001b[32m   Compiling\u001b[0m pyo3 v0.13.2\n",
            "\u001b[0m\u001b[0m\u001b[1m\u001b[32m   Compiling\u001b[0m gym_tictactoe v0.2.0 (/content/rustytac)\n",
            "warning: unused import: `lazy_static::lazy_static`\n",
            " --> src/lib.rs:3:5\n",
            "  |\n",
            "3 | use lazy_static::lazy_static;\n",
            "  |     ^^^^^^^^^^^^^^^^^^^^^^^^\n",
            "  |\n",
            "  = note: `#[warn(unused_imports)]` on by default\n",
            "\n",
            "\n",
            "warning: unused import: `itertools::Itertools`\n",
            " --> src/lib.rs:4:5\n",
            "  |\n",
            "4 | use itertools::Itertools;\n",
            "  |     ^^^^^^^^^^^^^^^^^^^^\n",
            "\n",
            "\n",
            "warning: unused import: `pyo3::prelude::*`\n",
            " --> src/lib.rs:6:5\n",
            "  |\n",
            "6 | use pyo3::prelude::*;\n",
            "  |     ^^^^^^^^^^^^^^^^\n",
            "\n",
            "\n",
            "warning: unused import: `pyo3::types::PyDict`\n",
            " --> src/lib.rs:7:5\n",
            "  |\n",
            "7 | use pyo3::types::PyDict;\n",
            "  |     ^^^^^^^^^^^^^^^^^^^\n",
            "\n",
            "\n",
            "warning: unused `std::result::Result` that must be used\n",
            "   --> src/lib.rs:211:13\n",
            "    |\n",
            "211 |             write!(f, \"{}\\n\", row_string);\n",
            "    |             ^^^^^^^^^^^^^^^^^^^^^^^^^^^^^^\n",
            "    |\n",
            "    = note: `#[warn(unused_must_use)]` on by default\n",
            "    = note: this `Result` may be an `Err` variant, which should be handled\n",
            "    = note: this warning originates in a macro (in Nightly builds, run with -Z macro-backtrace for more info)\n",
            "\n",
            "\n",
            "warning: 5 warnings emitted\n",
            "\n",
            "\n",
            "\u001b[0m\u001b[0m\u001b[1m\u001b[32m    Finished\u001b[0m release [optimized] target(s) in 15.46s\n",
            "📦 Built wheel for CPython 3.7m to /content/rustytac/target/wheels/gym_tictactoe-0.2.0-cp37-cp37m-manylinux_2_24_x86_64.whl\n"
          ]
        }
      ],
      "source": [
        "!apt install rustc\n",
        "!sudo dpkg --configure -a\n",
        "!poetry run maturin build --release"
      ]
    }
  ],
  "metadata": {
    "colab": {
      "collapsed_sections": [],
      "name": "game_wheel.ipynb",
      "provenance": []
    },
    "kernelspec": {
      "display_name": "Python 3",
      "name": "python3"
    },
    "language_info": {
      "name": "python"
    },
    "orig_nbformat": 4
  },
  "nbformat": 4,
  "nbformat_minor": 2
}
